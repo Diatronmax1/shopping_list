{
  "nbformat": 4,
  "nbformat_minor": 0,
  "metadata": {
    "colab": {
      "provenance": [],
      "mount_file_id": "https://github.com/Diatronmax1/shopping_list/blob/master/launcher.ipynb",
      "authorship_tag": "ABX9TyO7LEvssOylg/RV0Iu6Adur",
      "include_colab_link": true
    },
    "kernelspec": {
      "name": "python3",
      "display_name": "Python 3"
    },
    "language_info": {
      "name": "python"
    }
  },
  "cells": [
    {
      "cell_type": "markdown",
      "metadata": {
        "id": "view-in-github",
        "colab_type": "text"
      },
      "source": [
        "<a href=\"https://colab.research.google.com/github/Diatronmax1/shopping_list/blob/master/launcher.ipynb\" target=\"_parent\"><img src=\"https://colab.research.google.com/assets/colab-badge.svg\" alt=\"Open In Colab\"/></a>"
      ]
    },
    {
      "cell_type": "markdown",
      "source": [
        "Setup the directories and install dependencies (if required)"
      ],
      "metadata": {
        "id": "_amxDvxUwjPQ"
      }
    },
    {
      "cell_type": "code",
      "execution_count": 1,
      "metadata": {
        "id": "tQWjXsDbon5P",
        "outputId": "6c4be1e3-73d7-46e2-c43c-c130b9d0469a",
        "colab": {
          "base_uri": "https://localhost:8080/"
        }
      },
      "outputs": [
        {
          "output_type": "stream",
          "name": "stdout",
          "text": [
            "fatal: destination path 'shopping_list' already exists and is not an empty directory.\n",
            "Looking in indexes: https://pypi.org/simple, https://us-python.pkg.dev/colab-wheels/public/simple/\n",
            "Requirement already satisfied: PyQt5 in /usr/local/lib/python3.10/dist-packages (5.15.9)\n",
            "Requirement already satisfied: PyQt5-sip<13,>=12.11 in /usr/local/lib/python3.10/dist-packages (from PyQt5) (12.12.1)\n",
            "Requirement already satisfied: PyQt5-Qt5>=5.15.2 in /usr/local/lib/python3.10/dist-packages (from PyQt5) (5.15.2)\n",
            "Looking in indexes: https://pypi.org/simple, https://us-python.pkg.dev/colab-wheels/public/simple/\n",
            "Requirement already satisfied: pint in /usr/local/lib/python3.10/dist-packages (0.22)\n",
            "Requirement already satisfied: typing-extensions in /usr/local/lib/python3.10/dist-packages (from pint) (4.6.3)\n"
          ]
        }
      ],
      "source": [
        "!git clone https://github.com/Diatronmax1/shopping_list.git\n",
        "!pip install PyQt5\n",
        "!pip install pint"
      ]
    },
    {
      "cell_type": "markdown",
      "source": [
        "Standard imports"
      ],
      "metadata": {
        "id": "VaRr7Vpxwo0U"
      }
    },
    {
      "cell_type": "code",
      "source": [
        "from pathlib import Path\n",
        "import sys\n",
        "import yaml"
      ],
      "metadata": {
        "id": "PJwc83hTrYwy"
      },
      "execution_count": 2,
      "outputs": []
    },
    {
      "cell_type": "code",
      "source": [
        "module_path = str(Path('./shopping_list').resolve())\n",
        "\n",
        "if module_path not in sys.path:\n",
        "  sys.path.append(module_path)\n"
      ],
      "metadata": {
        "id": "P2TpvT9Ir0JK"
      },
      "execution_count": 3,
      "outputs": []
    },
    {
      "cell_type": "code",
      "source": [
        "import shopping_list\n",
        "from shopping_list import sheet_days, builder, already_have\n",
        "\n",
        "print(shopping_list.CFG_PATH)\n",
        "shopping_list.KEY_PATH = '/content/drive/MyDrive/local_drivekey.json'\n",
        "\n",
        "with open(shopping_list.CFG_PATH, 'rb') as y_file:\n",
        "  cfg_dict = yaml.load(y_file, yaml.Loader)\n",
        "\n",
        "which_week = '1'\n",
        "\n",
        "_sheet_names = (\n",
        "    f'Chris Food Plan Week {which_week}',\n",
        "    f\"Melia's Food Plan Week {which_week}\",\n",
        ")\n",
        "\n",
        "cfg_dict['sheets'] = {sheet_name:None for sheet_name in _sheet_names}\n",
        "\n",
        "all_days = [day for day in shopping_list.DAYS]\n",
        "\n",
        "for sheet_name in cfg_dict['sheets']:\n",
        "  if not sheet_name.startswith('B'):\n",
        "    cfg_dict['sheets'][sheet_name] = all_days\n",
        "\n",
        "cfg_dict['output_dir'] = '/content/'\n",
        "\n",
        "print(cfg_dict)\n",
        "\n",
        "with open(shopping_list.CFG_PATH, 'w') as y_file:\n",
        "  yaml.dump(cfg_dict, y_file)\n",
        "\n",
        "sheet_data = sheet_days.get_sheet_data()\n",
        "\n",
        "food_items, recipes = builder.build(sheet_data, already_have=already_have.get_ignored())"
      ],
      "metadata": {
        "id": "YB74CMtuvQiU",
        "outputId": "c723ba25-69fa-4fd3-cd2b-ed2d69d7a9e8",
        "colab": {
          "base_uri": "https://localhost:8080/"
        }
      },
      "execution_count": 5,
      "outputs": [
        {
          "output_type": "stream",
          "name": "stderr",
          "text": [
            "INFO:shopping_list.builder:Grabbing food from Chris Food Plan Week 1\n"
          ]
        },
        {
          "output_type": "stream",
          "name": "stdout",
          "text": [
            "/root/shopping_list_cfg.yml\n",
            "{'filename': 'shopping_list', 'mobile': False, 'names': {}, 'output_dir': '/content/', 'sheets': {'Chris Food Plan Week 1': ['Sunday', 'Monday', 'Tuesday', 'Wednesday', 'Thursday', 'Friday', 'Saturday'], \"Melia's Food Plan Week 1\": ['Sunday', 'Monday', 'Tuesday', 'Wednesday', 'Thursday', 'Friday', 'Saturday']}, 'threaded': True}\n"
          ]
        },
        {
          "output_type": "stream",
          "name": "stderr",
          "text": [
            "INFO:shopping_list.builder:Grabbing food from Melia's Food Plan Week 1\n",
            "INFO:shopping_list.builder:Grabbing master food list\n",
            "INFO:shopping_list.builder:Combining food sheets\n",
            "INFO:shopping_list.builder:Creating the food list\n",
            "INFO:shopping_list.builder:File Created shopping_list.txt\n"
          ]
        }
      ]
    }
  ]
}